{
 "cells": [
  {
   "attachments": {},
   "cell_type": "markdown",
   "metadata": {},
   "source": [
    "1.根據前面的作業，改成利用CNN模型來進行分類\n",
    "\n",
    "2.產生高解析度影像"
   ]
  },
  {
   "attachments": {},
   "cell_type": "markdown",
   "metadata": {},
   "source": [
    "針對白色的地方要進行差補（從低解析度變成高解析度）\n",
    "\n",
    "用法：大圖輸出-所以要把低解析度轉成高解析度，否則圖片會模糊\n",
    "\n",
    "- bicubic interpolation\n",
    "- SRCNN\n",
    "\n",
    "CNN\n",
    "Convolution 卷積\n",
    "參數設定：\n",
    "stride-特徵提取窗口會移動幾格(default stride=1)(一次移動一格)\n",
    "kernal size-特徵提取窗口（一般設為3*3的九宮格）\n",
    "zero pedding\n",
    "\n",
    "activation function 激發函數:\n",
    "每個神經細胞會被別人刺激，如果刺激夠強就會去刺激跟它相連的神經元，此函數就是是否可以激發別人對別人產生影響，有的可能有激發有的可能沒激發（電量小於門檻值就不激發，大於門檻值則激發）\n",
    "每個神經細胞都配備一個激發函數\n",
    "最常見的：relu，可以降低overfitting，而且速度快，包含線性與非線性的部分\n",
    "\n",
    "max_pooling：最大池\n",
    "kernal size:\n",
    "\n",
    "\n",
    "\n"
   ]
  },
  {
   "cell_type": "code",
   "execution_count": null,
   "metadata": {},
   "outputs": [],
   "source": []
  }
 ],
 "metadata": {
  "kernelspec": {
   "display_name": "ccwML",
   "language": "python",
   "name": "python3"
  },
  "language_info": {
   "name": "python",
   "version": "3.9.11"
  },
  "orig_nbformat": 4
 },
 "nbformat": 4,
 "nbformat_minor": 2
}
