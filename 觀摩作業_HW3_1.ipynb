{
 "cells": [
  {
   "attachments": {},
   "cell_type": "markdown",
   "metadata": {},
   "source": [
    "#### 作品三：分類器評比 -- 紅酒\n",
    "##### 姓名：嚴潔翎\n",
    "##### 學號：410878043\n",
    "##### 目標：利用三份資料，比較不同分類器之表現，並觀察各別對資料做 PCA 後的分類結果，是優於或劣於原始資料。分類器包含三種：邏輯斯迴歸 (Logistic Regression)、支援向量機 (SVM) 及神經網路 (Neural Network)。內部參數是決定分類器重要的螺絲，這些參數都能優化模型，使模型在所有訓練數據上的平均損失最小化，而此作品除了比較不同資料帶來的影響外，更透過調整內部參數，達到最佳的分類效果。\n",
    "\n",
    "<hr>"
   ]
  },
  {
   "cell_type": "code",
   "execution_count": 52,
   "metadata": {},
   "outputs": [],
   "source": [
    "import pandas as pd\n",
    "import numpy as np\n",
    "import matplotlib.pyplot as plt\n",
    "from sklearn.preprocessing import StandardScaler\n",
    "from sklearn.model_selection import train_test_split\n",
    "from sklearn.linear_model import LogisticRegression\n",
    "from sklearn.metrics import ConfusionMatrixDisplay, classification_report\n",
    "from sklearn.decomposition import PCA\n",
    "from sklearn.svm import SVC\n",
    "from sklearn.neural_network import MLPClassifier\n",
    "from numpy.linalg import eig\n",
    "import time\n",
    "from sklearn.model_selection import GridSearchCV, RandomizedSearchCV\n",
    "plt.style.use('default')"
   ]
  },
  {
   "cell_type": "markdown",
   "metadata": {},
   "source": [
    "【資料簡述】此資料為義大利 3 個紅酒製造商所產製的紅酒，包括 178 支紅酒的 13 種化學成分。\n",
    "\n",
    "【分類方法】\n",
    "1. Logistic Regression\n",
    "2. SVM\n",
    "3. Neural Network\n",
    "\n",
    "【資料處理】\n",
    "1. 切割資料集：將資料集以 3 : 1 ( 75 % : 25 % ) 分成訓練集、測試集，\n",
    "2. 標準化：分別對訓練集、測試集標準化，避免因單位不同、數值大小差距過大而造成的分析錯誤。\n",
    "3. 主成分分析：比較使用「原始資料」與「PCA 後萃取出的資訊」的差異。"
   ]
  },
  {
   "cell_type": "code",
   "execution_count": 2,
   "metadata": {},
   "outputs": [
    {
     "name": "stdout",
     "output_type": "stream",
     "text": [
      "# of obs.:  178\n",
      "# of variables:  13\n",
      "# of groups:  3\n"
     ]
    }
   ],
   "source": [
    "# only excecute this cell once, cuz the comparison among different learner must based on same training/testing dataset\n",
    "df = pd.read_excel('wine.xlsx')\n",
    "X = np.array(df.iloc[:, :-1]) # 排除最後一欄標籤 N*p, hw2 is p*N\n",
    "y = np.array(df.iloc[:, -1])\n",
    "\n",
    "# Split data into training and testing data\n",
    "ratio = 0.25\n",
    "X_train, X_test, y_train, y_test = train_test_split(X, y, test_size = ratio)    \n",
    "\n",
    "# Standardize data\n",
    "scaler = StandardScaler()\n",
    "X_train_ = scaler.fit_transform(X_train)\n",
    "X_test_ = scaler.fit_transform(X_test)\n",
    "\n",
    "print(\"# of obs.: \", X.shape[0])\n",
    "print(\"# of variables: \", X.shape[1])\n",
    "print(\"# of groups: \", len(np.unique(y)))"
   ]
  },
  {
   "cell_type": "code",
   "execution_count": 34,
   "metadata": {},
   "outputs": [
    {
     "data": {
      "image/png": "[encoded data removed]",
      "text/plain": [
       "<Figure size 640x480 with 1 Axes>"
      ]
     },
     "metadata": {},
     "output_type": "display_data"
    }
   ],
   "source": [
    "Sx = np.cov(X_train_.T, bias = False)\n",
    "w, v = eig(Sx)\n",
    "idx = np.argsort(w)[::-1]\n",
    "eigvals = w[idx]\n",
    "eigvecs = v[:, idx] \n",
    "Sigma_x = eigvecs @ np.diag(eigvals) @ eigvecs.T\n",
    "\n",
    "x = np.arange(1, 1 + len(eigvals))\n",
    "plt.plot(x, eigvals, marker='o')\n",
    "plt.axhline(1, c = 'darkred', ls = '--', alpha = 0.6)\n",
    "plt.xlabel('Principal Components')\n",
    "plt.ylabel('Eigenvalue')\n",
    "plt.title('Scree plot')"
   ]
  },
  {
   "cell_type": "code",
   "execution_count": 115,
   "metadata": {},
   "outputs": [
    {
     "name": "stdout",
     "output_type": "stream",
     "text": [
      "Explained variance ratio: 36.57%, 19.53%, 10.37%\n",
      "Cummulative varianceexplained : 66.47%\n"
     ]
    }
   ],
   "source": [
    "pca = PCA(n_components = 3).fit(X_train_)\n",
    "Z_train = pca.transform(X_train_)   # Apply dimensionality reduction to X.\n",
    "Z_test = pca.transform(X_test_)\n",
    "# ----------------------------------------------------\n",
    "explained = np.round(pca.explained_variance_ratio_*100, 2)\n",
    "print('Explained variance ratio: {}%'.format(\"%, \".join(str(x) for x in explained)))\n",
    "print('Cummulative varianceexplained : {:.2%}'.format(round(sum(pca.explained_variance_ratio_), 4)))"
   ]
  },
  {
   "attachments": {},
   "cell_type": "markdown",
   "metadata": {},
   "source": [
    "【討論】\n",
    "雖然前三個主成分的所解釋的總變異量不高，約 $66.5\\%$ 左右，但從陡坡圖來看，其特徵值均大於 1，而其餘主成分所解釋的總變異量差距不大，所只取前三個主成分作為 PCA 資料。\n",
    "\n",
    "<hr>"
   ]
  },
  {
   "attachments": {},
   "cell_type": "markdown",
   "metadata": {},
   "source": [
    "## 邏輯斯迴歸\n",
    "\n",
    "【參數調整】solver\n",
    "- lbfgs\n",
    "- liblinear\n",
    "- newton-cg\n",
    "\n",
    "【參與資料】\n",
    "- 原始資料\n",
    "- 標準化資料\n",
    "- PCA 資料"
   ]
  },
  {
   "attachments": {},
   "cell_type": "markdown",
   "metadata": {},
   "source": [
    "### 原始資料"
   ]
  },
  {
   "cell_type": "code",
   "execution_count": 33,
   "metadata": {},
   "outputs": [
    {
     "name": "stdout",
     "output_type": "stream",
     "text": [
      "              precision    recall  f1-score   support\n",
      "\n",
      "           1       0.93      0.88      0.90        16\n",
      "           2       0.89      0.89      0.89        19\n",
      "           3       0.91      1.00      0.95        10\n",
      "\n",
      "    accuracy                           0.91        45\n",
      "   macro avg       0.91      0.92      0.92        45\n",
      "weighted avg       0.91      0.91      0.91        45\n",
      "\n",
      "CPU times: total: 0 ns\n",
      "Wall time: 10 ms\n"
     ]
    }
   ],
   "source": [
    "%%time\n",
    "\n",
    "# 未標準化\n",
    "opts = dict(tol = 1e-6, max_iter = int(1e6), verbose = 0)\n",
    "# sol = 'lbfgs' # 'lbfgs' is the default\n",
    "sol = 'liblinear'\n",
    "# sol = 'newton-cg'\n",
    "clf_LR_ori = LogisticRegression(solver = sol, **opts)    # define learner\n",
    "clf_LR_ori.fit(X_train, y_train)                           # start training, learned\n",
    "y_pred = clf_LR_ori.predict(X_test)  \n",
    "\n",
    "print(classification_report(y_test, y_pred))"
   ]
  },
  {
   "attachments": {},
   "cell_type": "markdown",
   "metadata": {},
   "source": [
    "### 標準化資料"
   ]
  },
  {
   "cell_type": "code",
   "execution_count": 35,
   "metadata": {},
   "outputs": [
    {
     "name": "stdout",
     "output_type": "stream",
     "text": [
      "              precision    recall  f1-score   support\n",
      "\n",
      "           1       0.94      1.00      0.97        16\n",
      "           2       1.00      0.95      0.97        19\n",
      "           3       1.00      1.00      1.00        10\n",
      "\n",
      "    accuracy                           0.98        45\n",
      "   macro avg       0.98      0.98      0.98        45\n",
      "weighted avg       0.98      0.98      0.98        45\n",
      "\n",
      "CPU times: total: 0 ns\n",
      "Wall time: 9.53 ms\n"
     ]
    }
   ],
   "source": [
    "%%time \n",
    "\n",
    "# 標準化\n",
    "opts = dict(tol = 1e-6, max_iter = int(1e6), verbose = 0)\n",
    "sol = 'liblinear'   \n",
    "clf_LR_original = LogisticRegression(solver = sol, **opts)    \n",
    "clf_LR_original.fit(X_train_, y_train)                           \n",
    "y_pred = clf_LR_original.predict(X_test_)  \n",
    "\n",
    "print(classification_report(y_test, y_pred))"
   ]
  },
  {
   "attachments": {},
   "cell_type": "markdown",
   "metadata": {},
   "source": [
    "### PCA 資料"
   ]
  },
  {
   "cell_type": "code",
   "execution_count": 36,
   "metadata": {},
   "outputs": [
    {
     "name": "stdout",
     "output_type": "stream",
     "text": [
      "              precision    recall  f1-score   support\n",
      "\n",
      "           1       0.88      0.94      0.91        16\n",
      "           2       0.94      0.89      0.92        19\n",
      "           3       1.00      1.00      1.00        10\n",
      "\n",
      "    accuracy                           0.93        45\n",
      "   macro avg       0.94      0.94      0.94        45\n",
      "weighted avg       0.93      0.93      0.93        45\n",
      "\n",
      "CPU times: total: 0 ns\n",
      "Wall time: 9.5 ms\n"
     ]
    }
   ],
   "source": [
    "%%time\n",
    "\n",
    "# PCA\n",
    "opts = dict(tol = 1e-6, max_iter = int(1e6), verbose=0)\n",
    "solver = 'liblinear'\n",
    "clf_LR_pca = LogisticRegression(solver = solver, **opts)\n",
    "clf_LR_pca.fit(Z_train, y_train)\n",
    "y_pred = clf_LR_pca.predict(Z_test)\n",
    "\n",
    "print(classification_report(y_test, y_pred))"
   ]
  },
  {
   "attachments": {},
   "cell_type": "markdown",
   "metadata": {},
   "source": [
    "【討論】\n",
    "\n",
    "- 從肉眼無法分辨不同 solver 或不同資料的運行時間，但透過 `%%time` 可以明顯看出時間差，不過三者時間其實沒有差很多，只有準確率有明顯差距。而試了三種 solver: (1) lbfgs, (2) liblinear, (3) newton-cg 以 solver = liblinear 的速度是最快的，因 liblinear 適合較小的資料集。\n",
    "\n",
    "- 比較三者準確率\n",
    "    - 未標準化：91 %\n",
    "    - 標準化：96 %\n",
    "    - PCA：93 %\n",
    "\n",
    "    此結果非常合理，「未標準化」與「標準化」後的資料準確率差了 5 %，而「主成分資料」的準確率介在兩者之間，因為 PCA 只用到部分資訊，所以自然低於使用所有資料的準確率。\n",
    "\n",
    "<hr>"
   ]
  },
  {
   "attachments": {},
   "cell_type": "markdown",
   "metadata": {},
   "source": [
    "## SVM\n",
    "\n",
    "【參數組合】\n",
    "- kernel: linear, rbf, poly, sigmoid，共四種\n",
    "- gamma: scale, auto，共兩種\n",
    "- decision_function_shape: ovo, ovr，共兩種\n",
    "\n",
    "【參與資料】\n",
    "- 標準化\n",
    "- PCA\n"
   ]
  },
  {
   "cell_type": "code",
   "execution_count": 22,
   "metadata": {},
   "outputs": [
    {
     "name": "stdout",
     "output_type": "stream",
     "text": [
      "# of folds: 10\n",
      "Mean cross-validated score of the best_estimator: 99.23%\n",
      "best combination: {'decision_function_shape': 'ovo', 'gamma': 'scale', 'kernel': 'rbf'}\n",
      "\n"
     ]
    }
   ],
   "source": [
    "para = {'kernel':('linear','rbf','poly','sigmoid'), 'gamma':('scale','auto'), \\\n",
    "    'decision_function_shape':('ovo','ovr')}\n",
    "svc = SVC(tol = 1e-6, max_iter = int(1e6))\n",
    "clf = GridSearchCV(svc, para, cv = 10)   # default: 5-fold\n",
    "clf.fit(X_train_, y_train)\n",
    "# clf.cv_results_\n",
    "print(f\"# of folds: {clf.n_splits_}\")\n",
    "print(f\"Mean cross-validated score of the best_estimator: {clf.best_score_:.2%}\")\n",
    "print(f\"best combination: {clf.best_params_}\", end = \"\\n\\n\")"
   ]
  },
  {
   "cell_type": "code",
   "execution_count": null,
   "metadata": {},
   "outputs": [],
   "source": [
    "df = pd.DataFrame(clf.cv_results_)[['param_decision_function_shape','param_gamma','param_kernel','mean_fit_time','mean_test_score']]\n",
    "df.sort_values(by=['mean_test_score'], ascending = False)"
   ]
  },
  {
   "attachments": {},
   "cell_type": "markdown",
   "metadata": {},
   "source": [
    "【討論】\n",
    "\n",
    "尋找最佳學習器時需要比較各個參數組合的結果，若利用迴圈，讓每一種組合依序執行，而此處用到 `sklearn.model_selection` 的 `GridSearchSV`，除了能找到最佳參數組合外，能同步進行節省時間，還能進行交叉驗證，避免單次執行的結果較特殊，造成推斷偏誤。\n",
    "\n",
    "\n",
    "根據上述結果，在 16 種 SVM 參數組合中，從 `best_params_` 得到的結果為：\n",
    "- kernel: rbf\n",
    "- gamma: scale\n",
    "- decision_funciton_shape: ovo\n"
   ]
  },
  {
   "attachments": {},
   "cell_type": "markdown",
   "metadata": {},
   "source": [
    "### 標準化資料"
   ]
  },
  {
   "cell_type": "code",
   "execution_count": 59,
   "metadata": {},
   "outputs": [
    {
     "name": "stdout",
     "output_type": "stream",
     "text": [
      "97.78%\n",
      "\n",
      "              precision    recall  f1-score   support\n",
      "\n",
      "           1       1.00      1.00      1.00        16\n",
      "           2       1.00      0.95      0.97        19\n",
      "           3       0.91      1.00      0.95        10\n",
      "\n",
      "    accuracy                           0.98        45\n",
      "   macro avg       0.97      0.98      0.98        45\n",
      "weighted avg       0.98      0.98      0.98        45\n",
      "\n",
      "CPU times: total: 0 ns\n",
      "Wall time: 14.7 ms\n"
     ]
    }
   ],
   "source": [
    "%%time\n",
    "# standardized\n",
    "opts = dict(decision_function_shape = 'ovo', \\\n",
    "               tol = 1e-6, max_iter = int(1e6))\n",
    "clf_svm_ori = SVC(kernel = \"rbf\", gamma = 'scale', **opts)     \n",
    "clf_svm_ori.fit(X_train_, y_train)\n",
    "predictions = clf_svm_ori.predict(X_test_)\n",
    "print(f\"{clf_svm_ori.score(X_test_, y_test):.2%}\\n\")   # test score\n",
    "print(classification_report(y_test, predictions))\n"
   ]
  },
  {
   "attachments": {},
   "cell_type": "markdown",
   "metadata": {},
   "source": [
    "### PCA 資料"
   ]
  },
  {
   "cell_type": "code",
   "execution_count": 60,
   "metadata": {},
   "outputs": [
    {
     "name": "stdout",
     "output_type": "stream",
     "text": [
      "95.56%\n",
      "\n",
      "              precision    recall  f1-score   support\n",
      "\n",
      "           1       1.00      0.94      0.97        16\n",
      "           2       0.95      0.95      0.95        19\n",
      "           3       0.91      1.00      0.95        10\n",
      "\n",
      "    accuracy                           0.96        45\n",
      "   macro avg       0.95      0.96      0.96        45\n",
      "weighted avg       0.96      0.96      0.96        45\n",
      "\n",
      "CPU times: total: 0 ns\n",
      "Wall time: 19.9 ms\n"
     ]
    }
   ],
   "source": [
    "%%time\n",
    "# pca\n",
    "opts = dict(decision_function_shape = 'ovo', \\\n",
    "               tol = 1e-6, max_iter = int(1e6))\n",
    "clf_svm_ori = SVC(kernel = 'rbf', gamma = 'scale',**opts)     \n",
    "clf_svm_ori.fit(Z_train, y_train)\n",
    "predictions = clf_svm_ori.predict(Z_test)\n",
    "print(f\"{clf_svm_ori.score(Z_test, y_test):.2%}\\n\")   # test score\n",
    "print(classification_report(y_test, predictions))\n"
   ]
  },
  {
   "attachments": {},
   "cell_type": "markdown",
   "metadata": {},
   "source": [
    "## 神經網路\n",
    "\n",
    "\n",
    "激活函數 (activation function)：神經網路在訓練時，會以線性模式求解，但大部分的實際問題為非線性，激活函數的引入能讓分析結果更準確。\n",
    "\n",
    "> - 在類神經網路中如果不使用激勵函數，那麼在類神經網路中皆是以上層輸入的線性組合作為這一層的輸出（也就是矩陣相乘），輸出和輸入依然脫離不了線性關係，做深度類神經網路便失去意義。\n",
    "https://ithelp.ithome.com.tw/articles/10237036?sc=rss.iron \n",
    "\n",
    "> - Defines how the weighted sum of the input is transformed into an output from a node or nodes in a layer of the network. \n",
    "\n",
    "簡單來說，就是要決定將哪個激活函數放在隱藏層，能讓結果及效率達到目標。\n",
    "\n",
    "【參數組合】\n",
    "- solver: lbfgs, sgd, adam\n",
    "- activation: identity, relu, logistic\n",
    "- hidden layer: (20, ), (50, ), (80, ), (100, ), (40, 40), (50, 50)\n",
    "\n",
    "【參與資料】\n",
    "- 標準化\n",
    "- PCA"
   ]
  },
  {
   "cell_type": "code",
   "execution_count": 42,
   "metadata": {},
   "outputs": [
    {
     "name": "stdout",
     "output_type": "stream",
     "text": [
      "# of folds: 10\n",
      "Mean cross-validated score of the best_estimator: 100.00%\n",
      "best combination: {'activation': 'identity', 'hidden_layer_sizes': (50,), 'solver': 'sgd'}\n",
      "\n"
     ]
    }
   ],
   "source": [
    "para = {'solver':('lbfgs','sgd','adam'), 'activation':('identity','logistic','relu'), \\\n",
    "    'hidden_layer_sizes':((20,), (50,), (80,), (100,), (40, 40), (50, 50))}\n",
    "mlp = MLPClassifier(tol = 1e-6, max_iter = int(1e6))\n",
    "clf_mlp = GridSearchCV(mlp, para, cv = 10)   # default: 5-fold\n",
    "clf_mlp.fit(X_train_, y_train)\n",
    "\n",
    "print(f\"# of folds: {clf_mlp.n_splits_}\")\n",
    "print(f\"Mean cross-validated score of the best_estimator: {clf_mlp.best_score_:.2%}\")\n",
    "print(f\"best combination: {clf_mlp.best_params_}\", end = \"\\n\\n\")"
   ]
  },
  {
   "attachments": {},
   "cell_type": "markdown",
   "metadata": {},
   "source": [
    "【討論】\n",
    "從眾多組合當中，透過 GridSearchCV 測試每個參數組合所找到的最佳組合如下：\n",
    "- activation: identity\n",
    "- hidden layer size: (50, )\n",
    "- solver: sgd\n",
    "\n",
    "\n",
    "- SGD 特點：\n",
    "    - 提升訓練速度\n",
    "    "
   ]
  },
  {
   "attachments": {},
   "cell_type": "markdown",
   "metadata": {},
   "source": [
    "### 標準化資料"
   ]
  },
  {
   "cell_type": "code",
   "execution_count": 47,
   "metadata": {},
   "outputs": [
    {
     "name": "stdout",
     "output_type": "stream",
     "text": [
      "93.33%\n",
      "\n",
      "              precision    recall  f1-score   support\n",
      "\n",
      "           1       1.00      0.94      0.97        16\n",
      "           2       0.94      0.89      0.92        19\n",
      "           3       0.83      1.00      0.91        10\n",
      "\n",
      "    accuracy                           0.93        45\n",
      "   macro avg       0.93      0.94      0.93        45\n",
      "weighted avg       0.94      0.93      0.93        45\n",
      "\n",
      "CPU times: total: 2.14 s\n",
      "Wall time: 6.05 s\n"
     ]
    }
   ],
   "source": [
    "%%time\n",
    "\n",
    "hidden_layers = (50,)    \n",
    "activation = 'identity'   \n",
    "opts = dict(hidden_layer_sizes = hidden_layers, \\\n",
    "        activation = activation, tol = 1e-6, max_iter = int(1e6), warm_start=True)\n",
    "solver = 'sgd' \n",
    "clf_MLP_ori = MLPClassifier(solver = solver, **opts)\n",
    "clf_MLP_ori.fit(X_train_, y_train)\n",
    "predictions = clf_MLP_ori.predict(X_test_)\n",
    "\n",
    "print(f\"{clf_MLP_ori.score(X_test_, y_test):.2%}\\n\")\n",
    "print(classification_report(y_test, predictions))"
   ]
  },
  {
   "attachments": {},
   "cell_type": "markdown",
   "metadata": {},
   "source": [
    "### PCA 資料"
   ]
  },
  {
   "cell_type": "code",
   "execution_count": 49,
   "metadata": {},
   "outputs": [
    {
     "name": "stdout",
     "output_type": "stream",
     "text": [
      "91.11%\n",
      "\n",
      "              precision    recall  f1-score   support\n",
      "\n",
      "           1       1.00      0.88      0.93        16\n",
      "           2       0.89      0.89      0.89        19\n",
      "           3       0.83      1.00      0.91        10\n",
      "\n",
      "    accuracy                           0.91        45\n",
      "   macro avg       0.91      0.92      0.91        45\n",
      "weighted avg       0.92      0.91      0.91        45\n",
      "\n",
      "CPU times: total: 2.62 s\n",
      "Wall time: 7.54 s\n"
     ]
    }
   ],
   "source": [
    "%%time\n",
    "\n",
    "# PCA\n",
    "hidden_layers = (50,)    \n",
    "activation = 'identity'   \n",
    "opts = dict(hidden_layer_sizes = hidden_layers, \\\n",
    "        activation = activation, tol = 1e-6, max_iter = int(1e6), warm_start=True)\n",
    "solver = 'sgd'   \n",
    "clf_MLP_pca = MLPClassifier(solver = solver, **opts)\n",
    "clf_MLP_pca.fit(Z_train, y_train)\n",
    "predictions = clf_MLP_pca.predict(Z_test)\n",
    "\n",
    "print(f\"{clf_MLP_pca.score(Z_test, y_test):.2%}\\n\")\n",
    "print(classification_report(y_test, predictions))"
   ]
  },
  {
   "attachments": {},
   "cell_type": "markdown",
   "metadata": {},
   "source": [
    "但此方法需要花費大量時間計算，所以下面選用 `RandomizedSearchCV` 觀察是否一樣能達到高的準確率，但耗費時間較少。"
   ]
  },
  {
   "cell_type": "code",
   "execution_count": null,
   "metadata": {},
   "outputs": [
    {
     "name": "stdout",
     "output_type": "stream",
     "text": [
      "# of folds: 10\n",
      "Mean cross-validated score of the best_estimator: 99.23%\n",
      "best combination: {'solver': 'adam', 'hidden_layer_sizes': (50,), 'activation': 'relu'}\n",
      "\n"
     ]
    }
   ],
   "source": [
    "para = {'solver':('lbfgs','sgd','adam'), 'activation':('identity','logistic','relu'), \\\n",
    "    'hidden_layer_sizes':((20,), (50,), (80,), (100,), (40, 40), (50, 50))}\n",
    "mlp = MLPClassifier(tol = 1e-6, max_iter = int(1e6))\n",
    "clf_mlp_ran = RandomizedSearchCV(mlp, para, cv = 10)   # default: 5-fold\n",
    "clf_mlp_ran.fit(X_train_, y_train)\n",
    "\n",
    "print(f\"# of folds: {clf_mlp.n_splits_}\")\n",
    "print(f\"Mean cross-validated score of the best_estimator: {clf_mlp_ran.best_score_:.2%}\")\n",
    "print(f\"best combination: {clf_mlp_ran.best_params_}\", end = \"\\n\\n\")"
   ]
  },
  {
   "attachments": {},
   "cell_type": "markdown",
   "metadata": {},
   "source": [
    "【討論】\n",
    "\n",
    "經 `RandomizedSearchCV` 所得結果：\n",
    "- activation: relu\n",
    "- hidden layer size: (50, )\n",
    "- solver: adam\n",
    "\n",
    "【參數討論】\n",
    "\n",
    "-  ReLU 特點：\n",
    "    - 解決梯度消失問題 (vanishing gradient problem)\n",
    "    - 計算時間快：相較其他函數，其無需使用任何指數運算，只需判斷輸入執是否大於 0。\n",
    "    - 收斂速度快\n",
    "\n",
    "[activation function](https://towardsdatascience.com/how-to-choose-the-right-activation-function-for-neural-networks-3941ff0e6f9c)"
   ]
  },
  {
   "attachments": {},
   "cell_type": "markdown",
   "metadata": {},
   "source": [
    "### 標準化資料"
   ]
  },
  {
   "cell_type": "code",
   "execution_count": 64,
   "metadata": {},
   "outputs": [
    {
     "name": "stdout",
     "output_type": "stream",
     "text": [
      "95.56%\n",
      "\n",
      "              precision    recall  f1-score   support\n",
      "\n",
      "           1       1.00      1.00      1.00        16\n",
      "           2       1.00      0.89      0.94        19\n",
      "           3       0.83      1.00      0.91        10\n",
      "\n",
      "    accuracy                           0.96        45\n",
      "   macro avg       0.94      0.96      0.95        45\n",
      "weighted avg       0.96      0.96      0.96        45\n",
      "\n",
      "CPU times: total: 844 ms\n",
      "Wall time: 1.42 s\n"
     ]
    }
   ],
   "source": [
    "%%time\n",
    "\n",
    "hidden_layers = (50,)    \n",
    "activation = 'relu'   \n",
    "opts = dict(hidden_layer_sizes = hidden_layers, \\\n",
    "        activation = activation, tol = 1e-6, max_iter = int(1e6), warm_start=True)\n",
    "solver = 'adam' \n",
    "clf_MLP_ori = MLPClassifier(solver = solver, **opts)\n",
    "clf_MLP_ori.fit(X_train_, y_train)\n",
    "predictions = clf_MLP_ori.predict(X_test_)\n",
    "\n",
    "print(f\"{clf_MLP_ori.score(X_test_, y_test):.2%}\\n\")\n",
    "print(classification_report(y_test, predictions))"
   ]
  },
  {
   "attachments": {},
   "cell_type": "markdown",
   "metadata": {},
   "source": [
    "### PCA 資料"
   ]
  },
  {
   "cell_type": "code",
   "execution_count": 66,
   "metadata": {},
   "outputs": [
    {
     "name": "stdout",
     "output_type": "stream",
     "text": [
      "93.33%\n",
      "\n",
      "              precision    recall  f1-score   support\n",
      "\n",
      "           1       0.94      1.00      0.97        16\n",
      "           2       1.00      0.84      0.91        19\n",
      "           3       0.83      1.00      0.91        10\n",
      "\n",
      "    accuracy                           0.93        45\n",
      "   macro avg       0.92      0.95      0.93        45\n",
      "weighted avg       0.94      0.93      0.93        45\n",
      "\n",
      "CPU times: total: 2.14 s\n",
      "Wall time: 3.15 s\n"
     ]
    }
   ],
   "source": [
    "%%time\n",
    "\n",
    "hidden_layers = (50,)    \n",
    "activation = 'relu'   \n",
    "opts = dict(hidden_layer_sizes = hidden_layers, \\\n",
    "        activation = activation, tol = 1e-6, max_iter = int(1e6), warm_start=True)\n",
    "solver = 'adam' \n",
    "clf_MLP_pca = MLPClassifier(solver = solver, **opts)\n",
    "clf_MLP_pca.fit(Z_train, y_train)\n",
    "predictions = clf_MLP_pca.predict(Z_test)\n",
    "\n",
    "print(f\"{clf_MLP_pca.score(Z_test, y_test):.2%}\\n\")\n",
    "print(classification_report(y_test, predictions))"
   ]
  },
  {
   "attachments": {},
   "cell_type": "markdown",
   "metadata": {},
   "source": [
    "下面呈現的是 `RandomizedSearchCV` 所得的神經網路參數結果，用圖呈現標準化資料跟 PCA 資料的差異。"
   ]
  },
  {
   "cell_type": "code",
   "execution_count": 117,
   "metadata": {},
   "outputs": [
    {
     "data": {
      "image/png": "[encoded data removed]",
      "text/plain": [
       "<Figure size 640x480 with 1 Axes>"
      ]
     },
     "metadata": {},
     "output_type": "display_data"
    }
   ],
   "source": [
    "plt.plot(clf_MLP_ori.loss_curve_, label = 'Standardized data')\n",
    "plt.plot(clf_MLP_pca.loss_curve_, label = 'PCA data')\n",
    "plt.xlabel('Iteration'), plt.ylabel('Loss')\n",
    "plt.title('Loss curve')\n",
    "plt.legend()\n",
    "plt.show()"
   ]
  },
  {
   "cell_type": "code",
   "execution_count": 122,
   "metadata": {},
   "outputs": [
    {
     "data": {
      "image/png": "[encoded data removed]",
      "text/plain": [
       "<Figure size 640x480 with 2 Axes>"
      ]
     },
     "metadata": {},
     "output_type": "display_data"
    }
   ],
   "source": [
    "score = 100*clf_MLP_ori.score(X_test_, y_test)\n",
    "title = 'Standardized: Testing score = {:.2f}%'.format(score)\n",
    "disp = ConfusionMatrixDisplay.from_estimator(\n",
    "    clf_MLP_ori,\n",
    "    X_test_, y_test,\n",
    "    cmap = plt.cm.Blues,\n",
    "    normalize = 'true'\n",
    ")\n",
    "disp.ax_.set_title(title)\n",
    "plt.show()\n"
   ]
  },
  {
   "attachments": {},
   "cell_type": "markdown",
   "metadata": {},
   "source": [
    "【上圖】只有第二間酒廠的酒會被錯分成第三間酒廠，其餘兩間都能準確地被分類。 <br>\n",
    "【下圖】同樣只有第二間酒廠的酒會錯分成另外兩間。"
   ]
  },
  {
   "cell_type": "code",
   "execution_count": 121,
   "metadata": {},
   "outputs": [
    {
     "data": {
      "image/png": "[encoded data removed]",
      "text/plain": [
       "<Figure size 640x480 with 2 Axes>"
      ]
     },
     "metadata": {},
     "output_type": "display_data"
    }
   ],
   "source": [
    "score = 100*clf_MLP_pca.score(Z_test, y_test)\n",
    "title = 'PCA: Testing score = {:.2f}%'.format(score)\n",
    "disp = ConfusionMatrixDisplay.from_estimator(\n",
    "    clf_MLP_pca,\n",
    "    Z_test, y_test,\n",
    "    cmap = plt.cm.Blues,\n",
    "    normalize = 'true'\n",
    ")\n",
    "disp.ax_.set_title(title)\n",
    "plt.show()\n"
   ]
  },
  {
   "attachments": {},
   "cell_type": "markdown",
   "metadata": {},
   "source": [
    "【結論】\n",
    "\n",
    "根據上面執行的結果顯示，不論是用羅吉斯迴歸、SVM 或是神經網路，使用標準化資料所訓練的學習器所得分類結果較佳，但此資料很小，計算起來與 PCA 資料所需的時間差距不大，在較高的準確率下，可以使用原始資料訓練就好。另外，從 Loss Curve 可以看到，雖然原始資料起初的 Loss 較高，但收斂速度較快，迭代次數將近 PCA 資料的一半，更能確定使用原始標準化資料的效果會比主成分資料來的佳。\n",
    "\n",
    "使用 GridSearchCV 與 RandomizedSearchCV 所得的最佳參數組合，預測出的準確率差不多，甚至較高，Grid 的方式不僅耗時，獲取的結果也不一定是最佳模型，所以使用 RandomizedSearchCV 的參數組合不僅能節省時間，還能得到相似的準確率。"
   ]
  }
 ],
 "metadata": {
  "kernelspec": {
   "display_name": "Python 3.10.5 64-bit",
   "language": "python",
   "name": "python3"
  },
  "language_info": {
   "codemirror_mode": {
    "name": "ipython",
    "version": 3
   },
   "file_extension": ".py",
   "mimetype": "text/x-python",
   "name": "python",
   "nbconvert_exporter": "python",
   "pygments_lexer": "ipython3",
   "version": "3.10.11"
  },
  "orig_nbformat": 4,
  "vscode": {
   "interpreter": {
    "hash": "fb4569285eef3a3450cb62085a5b1e0da4bce0af555edc33dcf29baf3acc1368"
   }
  }
 },
 "nbformat": 4,
 "nbformat_minor": 2
}
